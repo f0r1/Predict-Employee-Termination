{
 "cells": [
  {
   "cell_type": "code",
   "execution_count": 3,
   "id": "f42f50d3",
   "metadata": {},
   "outputs": [],
   "source": [
    "import numpy as np\n",
    "import pandas as pd\n",
    "import matplotlib.pyplot as plt\n",
    "\n",
    "from sklearn.model_selection import train_test_split\n",
    "from sklearn.neighbors import KNeighborsClassifier\n",
    "from sklearn.svm import SVC\n",
    "from sklearn.ensemble import RandomForestClassifier\n"
   ]
  },
  {
   "cell_type": "code",
   "execution_count": 4,
   "id": "3ba4715b",
   "metadata": {},
   "outputs": [],
   "source": [
    "df = pd.read_csv('data/MFG10YearTerminationData.csv')\n",
    "drop_cols = ['EmployeeID', 'recorddate_key', 'birthdate_key', 'orighiredate_key',\n",
    "             'terminationdate_key', 'gender_full', 'termreason_desc',\n",
    "             'termtype_desc', 'STATUS_YEAR', 'store_name', 'job_title', 'department_name',\n",
    "             'city_name']\n",
    "dummy_cols = ['gender_short', 'BUSINESS_UNIT']\n",
    "label = df.STATUS\n",
    "\n",
    "df = df.drop(drop_cols, axis=1)\n",
    "df = pd.get_dummies(df, columns=dummy_cols)\n",
    "df = df.drop('STATUS', axis=1)\n"
   ]
  },
  {
   "cell_type": "code",
   "execution_count": 5,
   "id": "24c9fbc5",
   "metadata": {},
   "outputs": [
    {
     "name": "stdout",
     "output_type": "stream",
     "text": [
      "<class 'pandas.core.frame.DataFrame'>\n",
      "RangeIndex: 49653 entries, 0 to 49652\n",
      "Data columns (total 6 columns):\n",
      " #   Column                    Non-Null Count  Dtype\n",
      "---  ------                    --------------  -----\n",
      " 0   age                       49653 non-null  int64\n",
      " 1   length_of_service         49653 non-null  int64\n",
      " 2   gender_short_F            49653 non-null  bool \n",
      " 3   gender_short_M            49653 non-null  bool \n",
      " 4   BUSINESS_UNIT_HEADOFFICE  49653 non-null  bool \n",
      " 5   BUSINESS_UNIT_STORES      49653 non-null  bool \n",
      "dtypes: bool(4), int64(2)\n",
      "memory usage: 969.9 KB\n"
     ]
    }
   ],
   "source": [
    "df.info()"
   ]
  },
  {
   "cell_type": "code",
   "execution_count": 6,
   "id": "e828290e",
   "metadata": {},
   "outputs": [
    {
     "data": {
      "text/html": [
       "<div>\n",
       "<style scoped>\n",
       "    .dataframe tbody tr th:only-of-type {\n",
       "        vertical-align: middle;\n",
       "    }\n",
       "\n",
       "    .dataframe tbody tr th {\n",
       "        vertical-align: top;\n",
       "    }\n",
       "\n",
       "    .dataframe thead th {\n",
       "        text-align: right;\n",
       "    }\n",
       "</style>\n",
       "<table border=\"1\" class=\"dataframe\">\n",
       "  <thead>\n",
       "    <tr style=\"text-align: right;\">\n",
       "      <th></th>\n",
       "      <th>age</th>\n",
       "      <th>length_of_service</th>\n",
       "      <th>gender_short_F</th>\n",
       "      <th>gender_short_M</th>\n",
       "      <th>BUSINESS_UNIT_HEADOFFICE</th>\n",
       "      <th>BUSINESS_UNIT_STORES</th>\n",
       "    </tr>\n",
       "  </thead>\n",
       "  <tbody>\n",
       "    <tr>\n",
       "      <th>0</th>\n",
       "      <td>52</td>\n",
       "      <td>17</td>\n",
       "      <td>False</td>\n",
       "      <td>True</td>\n",
       "      <td>True</td>\n",
       "      <td>False</td>\n",
       "    </tr>\n",
       "    <tr>\n",
       "      <th>1</th>\n",
       "      <td>53</td>\n",
       "      <td>18</td>\n",
       "      <td>False</td>\n",
       "      <td>True</td>\n",
       "      <td>True</td>\n",
       "      <td>False</td>\n",
       "    </tr>\n",
       "    <tr>\n",
       "      <th>2</th>\n",
       "      <td>54</td>\n",
       "      <td>19</td>\n",
       "      <td>False</td>\n",
       "      <td>True</td>\n",
       "      <td>True</td>\n",
       "      <td>False</td>\n",
       "    </tr>\n",
       "    <tr>\n",
       "      <th>3</th>\n",
       "      <td>55</td>\n",
       "      <td>20</td>\n",
       "      <td>False</td>\n",
       "      <td>True</td>\n",
       "      <td>True</td>\n",
       "      <td>False</td>\n",
       "    </tr>\n",
       "    <tr>\n",
       "      <th>4</th>\n",
       "      <td>56</td>\n",
       "      <td>21</td>\n",
       "      <td>False</td>\n",
       "      <td>True</td>\n",
       "      <td>True</td>\n",
       "      <td>False</td>\n",
       "    </tr>\n",
       "  </tbody>\n",
       "</table>\n",
       "</div>"
      ],
      "text/plain": [
       "   age  length_of_service  gender_short_F  gender_short_M  \\\n",
       "0   52                 17           False            True   \n",
       "1   53                 18           False            True   \n",
       "2   54                 19           False            True   \n",
       "3   55                 20           False            True   \n",
       "4   56                 21           False            True   \n",
       "\n",
       "   BUSINESS_UNIT_HEADOFFICE  BUSINESS_UNIT_STORES  \n",
       "0                      True                 False  \n",
       "1                      True                 False  \n",
       "2                      True                 False  \n",
       "3                      True                 False  \n",
       "4                      True                 False  "
      ]
     },
     "execution_count": 6,
     "metadata": {},
     "output_type": "execute_result"
    }
   ],
   "source": [
    "df.head()"
   ]
  },
  {
   "cell_type": "code",
   "execution_count": 7,
   "id": "778565f9",
   "metadata": {},
   "outputs": [
    {
     "data": {
      "text/html": [
       "<div>\n",
       "<style scoped>\n",
       "    .dataframe tbody tr th:only-of-type {\n",
       "        vertical-align: middle;\n",
       "    }\n",
       "\n",
       "    .dataframe tbody tr th {\n",
       "        vertical-align: top;\n",
       "    }\n",
       "\n",
       "    .dataframe thead th {\n",
       "        text-align: right;\n",
       "    }\n",
       "</style>\n",
       "<table border=\"1\" class=\"dataframe\">\n",
       "  <thead>\n",
       "    <tr style=\"text-align: right;\">\n",
       "      <th></th>\n",
       "      <th>age</th>\n",
       "      <th>length_of_service</th>\n",
       "      <th>gender_short_F</th>\n",
       "      <th>gender_short_M</th>\n",
       "      <th>BUSINESS_UNIT_HEADOFFICE</th>\n",
       "      <th>BUSINESS_UNIT_STORES</th>\n",
       "    </tr>\n",
       "  </thead>\n",
       "  <tbody>\n",
       "    <tr>\n",
       "      <th>49648</th>\n",
       "      <td>21</td>\n",
       "      <td>2</td>\n",
       "      <td>False</td>\n",
       "      <td>True</td>\n",
       "      <td>False</td>\n",
       "      <td>True</td>\n",
       "    </tr>\n",
       "    <tr>\n",
       "      <th>49649</th>\n",
       "      <td>19</td>\n",
       "      <td>0</td>\n",
       "      <td>True</td>\n",
       "      <td>False</td>\n",
       "      <td>False</td>\n",
       "      <td>True</td>\n",
       "    </tr>\n",
       "    <tr>\n",
       "      <th>49650</th>\n",
       "      <td>21</td>\n",
       "      <td>2</td>\n",
       "      <td>True</td>\n",
       "      <td>False</td>\n",
       "      <td>False</td>\n",
       "      <td>True</td>\n",
       "    </tr>\n",
       "    <tr>\n",
       "      <th>49651</th>\n",
       "      <td>19</td>\n",
       "      <td>0</td>\n",
       "      <td>True</td>\n",
       "      <td>False</td>\n",
       "      <td>False</td>\n",
       "      <td>True</td>\n",
       "    </tr>\n",
       "    <tr>\n",
       "      <th>49652</th>\n",
       "      <td>20</td>\n",
       "      <td>1</td>\n",
       "      <td>True</td>\n",
       "      <td>False</td>\n",
       "      <td>False</td>\n",
       "      <td>True</td>\n",
       "    </tr>\n",
       "  </tbody>\n",
       "</table>\n",
       "</div>"
      ],
      "text/plain": [
       "       age  length_of_service  gender_short_F  gender_short_M  \\\n",
       "49648   21                  2           False            True   \n",
       "49649   19                  0            True           False   \n",
       "49650   21                  2            True           False   \n",
       "49651   19                  0            True           False   \n",
       "49652   20                  1            True           False   \n",
       "\n",
       "       BUSINESS_UNIT_HEADOFFICE  BUSINESS_UNIT_STORES  \n",
       "49648                     False                  True  \n",
       "49649                     False                  True  \n",
       "49650                     False                  True  \n",
       "49651                     False                  True  \n",
       "49652                     False                  True  "
      ]
     },
     "execution_count": 7,
     "metadata": {},
     "output_type": "execute_result"
    }
   ],
   "source": [
    "df.tail()"
   ]
  },
  {
   "cell_type": "code",
   "execution_count": 8,
   "id": "1c9b14b3",
   "metadata": {},
   "outputs": [
    {
     "data": {
      "text/html": [
       "<div>\n",
       "<style scoped>\n",
       "    .dataframe tbody tr th:only-of-type {\n",
       "        vertical-align: middle;\n",
       "    }\n",
       "\n",
       "    .dataframe tbody tr th {\n",
       "        vertical-align: top;\n",
       "    }\n",
       "\n",
       "    .dataframe thead th {\n",
       "        text-align: right;\n",
       "    }\n",
       "</style>\n",
       "<table border=\"1\" class=\"dataframe\">\n",
       "  <thead>\n",
       "    <tr style=\"text-align: right;\">\n",
       "      <th></th>\n",
       "      <th>age</th>\n",
       "      <th>length_of_service</th>\n",
       "    </tr>\n",
       "  </thead>\n",
       "  <tbody>\n",
       "    <tr>\n",
       "      <th>count</th>\n",
       "      <td>49653.000000</td>\n",
       "      <td>49653.000000</td>\n",
       "    </tr>\n",
       "    <tr>\n",
       "      <th>mean</th>\n",
       "      <td>42.077035</td>\n",
       "      <td>10.434596</td>\n",
       "    </tr>\n",
       "    <tr>\n",
       "      <th>std</th>\n",
       "      <td>12.427257</td>\n",
       "      <td>6.325286</td>\n",
       "    </tr>\n",
       "    <tr>\n",
       "      <th>min</th>\n",
       "      <td>19.000000</td>\n",
       "      <td>0.000000</td>\n",
       "    </tr>\n",
       "    <tr>\n",
       "      <th>25%</th>\n",
       "      <td>31.000000</td>\n",
       "      <td>5.000000</td>\n",
       "    </tr>\n",
       "    <tr>\n",
       "      <th>50%</th>\n",
       "      <td>42.000000</td>\n",
       "      <td>10.000000</td>\n",
       "    </tr>\n",
       "    <tr>\n",
       "      <th>75%</th>\n",
       "      <td>53.000000</td>\n",
       "      <td>15.000000</td>\n",
       "    </tr>\n",
       "    <tr>\n",
       "      <th>max</th>\n",
       "      <td>65.000000</td>\n",
       "      <td>26.000000</td>\n",
       "    </tr>\n",
       "  </tbody>\n",
       "</table>\n",
       "</div>"
      ],
      "text/plain": [
       "                age  length_of_service\n",
       "count  49653.000000       49653.000000\n",
       "mean      42.077035          10.434596\n",
       "std       12.427257           6.325286\n",
       "min       19.000000           0.000000\n",
       "25%       31.000000           5.000000\n",
       "50%       42.000000          10.000000\n",
       "75%       53.000000          15.000000\n",
       "max       65.000000          26.000000"
      ]
     },
     "execution_count": 8,
     "metadata": {},
     "output_type": "execute_result"
    }
   ],
   "source": [
    "df.describe()"
   ]
  },
  {
   "cell_type": "code",
   "execution_count": 9,
   "id": "6ba3ce34",
   "metadata": {},
   "outputs": [],
   "source": [
    "X_train, X_test, y_train, y_test = train_test_split(df, label, test_size=0.3,\n",
    "                                                    random_state=10)"
   ]
  },
  {
   "cell_type": "code",
   "execution_count": 10,
   "id": "510c016a",
   "metadata": {},
   "outputs": [],
   "source": [
    "# KNN\n",
    "KNC = KNeighborsClassifier(n_neighbors=5, weights='uniform')\n",
    "KNC.fit(X_train, y_train)\n",
    "kn_score = KNC.score(X_test, y_test)"
   ]
  },
  {
   "cell_type": "code",
   "execution_count": 11,
   "id": "edeb80f6",
   "metadata": {},
   "outputs": [],
   "source": [
    "# SVC\n",
    "SVC = SVC(C=1, kernel='rbf', random_state=10)\n",
    "SVC.fit(X_train, y_train)\n",
    "sv_score = SVC.score(X_test, y_test)"
   ]
  },
  {
   "cell_type": "code",
   "execution_count": 12,
   "id": "8392abc5",
   "metadata": {},
   "outputs": [],
   "source": [
    "# Random Forest\n",
    "RFC = RandomForestClassifier(n_estimators=10, criterion='gini', min_samples_split=2,\n",
    "                               oob_score=False, random_state=10)\n",
    "RFC.fit(X_train, y_train)\n",
    "rf_score = RFC.score(X_test, y_test)\n"
   ]
  },
  {
   "cell_type": "code",
   "execution_count": 13,
   "id": "494c6c9a",
   "metadata": {},
   "outputs": [
    {
     "name": "stdout",
     "output_type": "stream",
     "text": [
      "KNN model score is 0.9859%\n",
      "SVC model score is 0.9704%\n",
      "Random Forest model score is 0.9872%\n"
     ]
    }
   ],
   "source": [
    "print(f'KNN model score is {kn_score:.4f}%')\n",
    "print(f'SVC model score is {sv_score:.4f}%')\n",
    "print(f'Random Forest model score is {rf_score:.4f}%')"
   ]
  },
  {
   "cell_type": "code",
   "execution_count": 14,
   "id": "b8db81a0",
   "metadata": {},
   "outputs": [
    {
     "name": "stdout",
     "output_type": "stream",
     "text": [
      "Самый значимый признак: age Важность: 0.804971248559658\n"
     ]
    }
   ],
   "source": [
    "importances = RFC.feature_importances_\n",
    "top_feature_idx = importances.argmax()\n",
    "print('Самый значимый признак:', X_train.columns[top_feature_idx], 'Важность:', importances[top_feature_idx])"
   ]
  },
  {
   "cell_type": "code",
   "execution_count": 15,
   "id": "f24b873a",
   "metadata": {},
   "outputs": [],
   "source": [
    "label_map = label.map({'ACTIVE': 0, 'TERMINATED': 1})\n",
    "ages_active = df['age'][label_map == 0]\n",
    "ages_terminated = df['age'][label_map == 1]"
   ]
  },
  {
   "cell_type": "code",
   "execution_count": 16,
   "id": "2a503c4f",
   "metadata": {},
   "outputs": [
    {
     "name": "stderr",
     "output_type": "stream",
     "text": [
      "/var/folders/gw/zqj26f710s38lgx0sn2bknfc0000gn/T/ipykernel_9861/770728604.py:3: MatplotlibDeprecationWarning: The 'labels' parameter of boxplot() has been renamed 'tick_labels' since Matplotlib 3.9; support for the old name will be dropped in 3.11.\n",
      "  plt.boxplot([ages_active, ages_terminated], labels=['ACTIVE', 'TERMINATED'])\n"
     ]
    },
    {
     "data": {
      "image/png": "[encoded data removed]",
      "text/plain": [
       "<Figure size 640x480 with 1 Axes>"
      ]
     },
     "metadata": {},
     "output_type": "display_data"
    }
   ],
   "source": [
    "import matplotlib.pyplot as plt\n",
    "\n",
    "plt.boxplot([ages_active, ages_terminated], labels=['ACTIVE', 'TERMINATED'])\n",
    "plt.xlabel('Status')\n",
    "plt.ylabel('Age')\n",
    "plt.title('Зависимость возраста от статуса')\n",
    "plt.suptitle('')\n",
    "plt.show()\n"
   ]
  }
 ],
 "metadata": {
  "kernelspec": {
   "display_name": "Python 3",
   "language": "python",
   "name": "python3"
  },
  "language_info": {
   "codemirror_mode": {
    "name": "ipython",
    "version": 3
   },
   "file_extension": ".py",
   "mimetype": "text/x-python",
   "name": "python",
   "nbconvert_exporter": "python",
   "pygments_lexer": "ipython3",
   "version": "3.13.3"
  }
 },
 "nbformat": 4,
 "nbformat_minor": 5
}
